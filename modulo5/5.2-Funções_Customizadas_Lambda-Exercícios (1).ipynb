{
 "cells": [
  {
   "cell_type": "markdown",
   "id": "cbdff5a5",
   "metadata": {},
   "source": [
    "# Módulo 5 - Funções\n",
    "\n",
    "## Aulas 5.2 - Funções Customizadas e 5.4 Funções ```lambda```"
   ]
  },
  {
   "cell_type": "markdown",
   "id": "28a3fee2",
   "metadata": {},
   "source": [
    "### Q1.\n",
    "\n",
    "- Sabendo que o código a seguir calcula o fatorial de n, escreva uma função chamada ```fatorial()``` que recebe um inteiro ```n``` como parâmetro e retorna o resultado do fatorial de ```n```. \n",
    "- No programa principal, peça ao usuário o valor de ```n```, chame a sua função e imprima o retorno.\n",
    "\n",
    "```python\n",
    "fat = 1\n",
    "for i in range(1, n+1):\n",
    "    fat *= i \n",
    "```"
   ]
  },
  {
   "cell_type": "code",
   "execution_count": 4,
   "id": "d126b3a5",
   "metadata": {},
   "outputs": [],
   "source": [
    "## Crie aqui a função fatorial()\n",
    "## lembre-se de executar a célula para que \n",
    "## a função passe a existir e possa ser chamada\n",
    "def fatorial(n):\n",
    "    fat = 1\n",
    "    for i in range(1, n+1):\n",
    "        fat *= i\n",
    "    return fat"
   ]
  },
  {
   "cell_type": "code",
   "execution_count": 5,
   "id": "6e4fe64e",
   "metadata": {},
   "outputs": [
    {
     "name": "stdin",
     "output_type": "stream",
     "text": [
      "Digite um número:  3\n"
     ]
    },
    {
     "name": "stdout",
     "output_type": "stream",
     "text": [
      "Fatorial:  6\n"
     ]
    }
   ],
   "source": [
    "## Escreva aqui o programa principal e execute a célula\n",
    "n = int(input(\"Digite um número: \"))\n",
    "print(\"Fatorial: \", fatorial(n))"
   ]
  },
  {
   "cell_type": "markdown",
   "id": "c0a1f599",
   "metadata": {},
   "source": [
    "### Q2.\n",
    "\n",
    "- Escreva uma função em Python chamada ```soma_quadrados``` que recebe dois números como parâmetros e retorna a soma dos seus quadrados. \n",
    "- No programa principal solicite ao usuário que insira dois números e utilize a função para exibir a soma dos quadrados."
   ]
  },
  {
   "cell_type": "code",
   "execution_count": 8,
   "id": "6dbddaad",
   "metadata": {},
   "outputs": [],
   "source": [
    "## Crie aqui a função soma_quadrados()\n",
    "def soma_quadrados(x, y):\n",
    "    soma = x**2 + y**2\n",
    "    return soma"
   ]
  },
  {
   "cell_type": "code",
   "execution_count": 9,
   "id": "9175a7da",
   "metadata": {},
   "outputs": [
    {
     "name": "stdin",
     "output_type": "stream",
     "text": [
      "Digite um número:  2\n",
      "\n",
      "Digite outro número:  3\n"
     ]
    },
    {
     "name": "stdout",
     "output_type": "stream",
     "text": [
      "A soma dos quadrados de 2 e 3 é 13\n"
     ]
    }
   ],
   "source": [
    "## Escreva aqui o programa principal e execute a célula\n",
    "x, y = int(input(\"Digite um número: \")), int(input(\"\\nDigite outro número: \"))\n",
    "print(f\"A soma dos quadrados de {x} e {y} é\", soma_quadrados(x, y))"
   ]
  },
  {
   "cell_type": "markdown",
   "id": "6ba34ce0",
   "metadata": {},
   "source": [
    "### Q3.\n",
    "\n",
    "- Crie uma função em Python chamada ```soma_digitos``` que recebe um número inteiro como parâmetro e retorna a soma dos seus dígitos. Por exemplo, para o número 123, a função deve retornar 6, $(1 + 2 + 3)$.\n",
    "    - O desafio aqui é separar os dígitos de um número inteiro usando operações aritméticas <br> <br>\n",
    "\n",
    "- No programa principal solicite ao usuário que insira um número e utilize a função ```soma_digitos``` para calcular e exibir a soma dos seus dígitos."
   ]
  },
  {
   "cell_type": "code",
   "execution_count": 3,
   "id": "34838ebf",
   "metadata": {},
   "outputs": [],
   "source": [
    "## Crie aqui a função soma_digitos()\n",
    "def soma_digitos(n):\n",
    "    soma = 0\n",
    "    while n > 0:\n",
    "        soma += n % 10\n",
    "        n = n // 10\n",
    "    return soma"
   ]
  },
  {
   "cell_type": "code",
   "execution_count": 4,
   "id": "27c35b21",
   "metadata": {},
   "outputs": [
    {
     "name": "stdin",
     "output_type": "stream",
     "text": [
      "Digite um número inteiro:  123456789\n"
     ]
    },
    {
     "name": "stdout",
     "output_type": "stream",
     "text": [
      "A soma dos dígitos do número 123456789 é 45\n"
     ]
    }
   ],
   "source": [
    "## Escreva aqui o programa principal e execute a célula\n",
    "num = int(input(\"Digite um número inteiro: \"))\n",
    "print(f\"A soma dos dígitos do número {num} é\", soma_digitos(num))"
   ]
  },
  {
   "cell_type": "markdown",
   "id": "c318b159",
   "metadata": {},
   "source": [
    "### Q4.\n",
    "\n",
    "- Crie a função ```inverteValor()``` que recebe um inteiro de qualquer tamanho e retorna esse valor invertido usando apenas operações aritméticas\n",
    "- Crie a função ```verificaInverso()``` que recebe o valor original e o valor invertido e retorna verdadeiro se ambos forem igualmente par ou igualmente ímpar. Retorne falso caso contrário.\n",
    "- No programa principal, peça um valor do usuário e imprima o retorno de ambas as funções.\n"
   ]
  },
  {
   "cell_type": "code",
   "execution_count": 15,
   "id": "e4e47d1d",
   "metadata": {},
   "outputs": [],
   "source": [
    "## Crie aqui as funções inverteValor() e verificaInverso()\n",
    "def inverteValor(valor):\n",
    "    i = 0\n",
    "    valorInvertido = 0\n",
    "    num =  valor\n",
    "    while num > 1:\n",
    "        num = num / 10\n",
    "        i += 1\n",
    "    while valor > 0:\n",
    "        digito = valor % 10\n",
    "        valor = valor // 10\n",
    "        valorInvertido += digito * (10 ** (i-1))\n",
    "        i -= 1\n",
    "    return valorInvertido\n",
    "def verificaInverso(valor, valorInvertido):\n",
    "    if (valor % 2 == 0 and valorInvertido % 2 == 0) or (valor % 2 != 0 and valorInvertido % 2 != 0):\n",
    "        return True\n",
    "    else:\n",
    "        return False"
   ]
  },
  {
   "cell_type": "code",
   "execution_count": 18,
   "id": "a9514e56",
   "metadata": {},
   "outputs": [
    {
     "name": "stdin",
     "output_type": "stream",
     "text": [
      "Digite um número inteiro de 2 ou mais dígitos:  123456789\n"
     ]
    },
    {
     "name": "stdout",
     "output_type": "stream",
     "text": [
      "O inverso de 123456789 é 987654321\n",
      "Os dois são igualmente pares ou igualmente ímpares: True\n"
     ]
    }
   ],
   "source": [
    "## Escreva aqui o programa principal e execute a célula\n",
    "n =  int(input(\"Digite um número inteiro de 2 ou mais dígitos: \"))\n",
    "invertido = inverteValor(n)\n",
    "print(f\"O inverso de {n} é\", invertido)\n",
    "print(\"Os dois são igualmente pares ou igualmente ímpares:\", verificaInverso(n, invertido))"
   ]
  },
  {
   "cell_type": "markdown",
   "id": "ae92cf9e-7205-4dbd-bb16-ed3582b9cac9",
   "metadata": {},
   "source": [
    "### Q5.\n",
    "\n",
    "Você está desenvolvendo um programa para auxiliar em cálculos de geometria básica. Crie as seguintes funções:\n",
    "- A função ```calcula_perimetro_triangulo()``` que recebe três inteiros correspondentes aos lados de um triângulo e retorna o perímetro do triângulo, ou seja, a soma dos seus lados.\n",
    "- A função ```calcula_perimetro_circulo()``` que recebe um inteiro referente ao raio do círculo e retorna o perímetro do círculo, dado por $2 \\pi r$. Use a constante $\\pi$ da biblioteca ```math```.\n",
    "- A função ```calcula_perimetro_retangulo()``` que possui um parâmetro obrigatório ```lado1``` e um opcional ```lado2```, ambos inteiros. Se o valor opcional não for fornecido, significa que se trata de um quadrado. Sua função deve calcular e retornar o perímetro do retângulo, ou seja, a soma de seus lados. \n",
    "    - Para o quadrado, é dado por $4 \\times lado1$\n",
    "    - Para o retângulo é dado por $2 \\times lado1 + 2 \\times lado2$\n",
    "    \n",
    "- No programa principal apresente um menu com as opções disponíveis do seu sistema e uma quarta opção ```Sair```. Solicite ao usuário a opção desejada, solicite as entradas correspondentes à opção escolhida, invoque a respective função e apresente o seu retorno. Seu programa deve retornar ao menu até que o usuário escolha a opção ```Sair```\n",
    "\n",
    "Exemplo de interação:\n",
    "```\n",
    "1 - Calcular perímetro triângulo\n",
    "2 - Calcular perímetro círculo\n",
    "3 - Calcular perímetro retângulo\n",
    "4 - Sair\n",
    "\n",
    "Opção: 1\n",
    "Digite os três lados do triângulo:\n",
    "3\n",
    "4\n",
    "5\n",
    "O perímetro é: 12\n",
    "\n",
    "1 - Calcular perímetro triângulo\n",
    "2 - Calcular perímetro círculo\n",
    "3 - Calcular perímetro retângulo\n",
    "4 - Sair\n",
    "\n",
    "Opção: 3\n",
    "Informe os dois lados do retângulo. Se for um quadrado, digite 0 para o segundo valor:\n",
    "5\n",
    "0\n",
    "O perímetro é: 20\n",
    "\n",
    "1 - Calcular perímetro triângulo\n",
    "2 - Calcular perímetro círculo\n",
    "3 - Calcular perímetro retângulo\n",
    "4 - Sair\n",
    "\n",
    "Opção: 4\n",
    "```"
   ]
  },
  {
   "cell_type": "code",
   "execution_count": 19,
   "id": "0793d328",
   "metadata": {},
   "outputs": [],
   "source": [
    "## Crie aqui as funções \n",
    "def calcula_perimetro_triangulo(l1, l2, l3):\n",
    "    return l1 + l2 + l3\n",
    "def calcula_perimetro_circulo(r):\n",
    "    return 2 * pi * r ** 2\n",
    "def calcula_perimetro_retangulo(l1, l2=0):\n",
    "    if l2 == 0:\n",
    "        return 4 * l1\n",
    "    else:\n",
    "        return 2 * l1 + 2 * l2"
   ]
  },
  {
   "cell_type": "code",
   "execution_count": 20,
   "id": "36269c71",
   "metadata": {},
   "outputs": [
    {
     "name": "stdout",
     "output_type": "stream",
     "text": [
      "\n",
      "1 - Calcular perímetro triângulo\n",
      "2 - Calcular perímetro círculo\n",
      "3 - Calcular perímetro retângulo\n",
      "4 - Sair\n"
     ]
    },
    {
     "name": "stdin",
     "output_type": "stream",
     "text": [
      " 1\n"
     ]
    },
    {
     "name": "stdout",
     "output_type": "stream",
     "text": [
      "Opção: 1\n",
      "Digite os três lados do triângulo: \n"
     ]
    },
    {
     "name": "stdin",
     "output_type": "stream",
     "text": [
      " 2\n",
      " 3\n",
      " 4\n"
     ]
    },
    {
     "name": "stdout",
     "output_type": "stream",
     "text": [
      "O perímetro é: 9\n",
      "\n",
      "1 - Calcular perímetro triângulo\n",
      "2 - Calcular perímetro círculo\n",
      "3 - Calcular perímetro retângulo\n",
      "4 - Sair\n"
     ]
    },
    {
     "name": "stdin",
     "output_type": "stream",
     "text": [
      " 2\n"
     ]
    },
    {
     "name": "stdout",
     "output_type": "stream",
     "text": [
      "Opção: 2\n",
      "Digite o raio do círculo: \n"
     ]
    },
    {
     "name": "stdin",
     "output_type": "stream",
     "text": [
      " 1\n"
     ]
    },
    {
     "name": "stdout",
     "output_type": "stream",
     "text": [
      "O perímetro é: 6.283185307179586\n",
      "\n",
      "1 - Calcular perímetro triângulo\n",
      "2 - Calcular perímetro círculo\n",
      "3 - Calcular perímetro retângulo\n",
      "4 - Sair\n"
     ]
    },
    {
     "name": "stdin",
     "output_type": "stream",
     "text": [
      " 3\n"
     ]
    },
    {
     "name": "stdout",
     "output_type": "stream",
     "text": [
      "Opção: 3\n",
      "Informe os dois lados do retângulo. Se for um quadrado, digite 0 para o segundo valor:\n"
     ]
    },
    {
     "name": "stdin",
     "output_type": "stream",
     "text": [
      " 2\n",
      " 0\n"
     ]
    },
    {
     "name": "stdout",
     "output_type": "stream",
     "text": [
      "O perímetro é: 8\n",
      "\n",
      "1 - Calcular perímetro triângulo\n",
      "2 - Calcular perímetro círculo\n",
      "3 - Calcular perímetro retângulo\n",
      "4 - Sair\n"
     ]
    },
    {
     "name": "stdin",
     "output_type": "stream",
     "text": [
      " 3\n"
     ]
    },
    {
     "name": "stdout",
     "output_type": "stream",
     "text": [
      "Opção: 3\n",
      "Informe os dois lados do retângulo. Se for um quadrado, digite 0 para o segundo valor:\n"
     ]
    },
    {
     "name": "stdin",
     "output_type": "stream",
     "text": [
      " 2\n",
      " 3\n"
     ]
    },
    {
     "name": "stdout",
     "output_type": "stream",
     "text": [
      "O perímetro é: 10\n",
      "\n",
      "1 - Calcular perímetro triângulo\n",
      "2 - Calcular perímetro círculo\n",
      "3 - Calcular perímetro retângulo\n",
      "4 - Sair\n"
     ]
    },
    {
     "name": "stdin",
     "output_type": "stream",
     "text": [
      " 4\n"
     ]
    }
   ],
   "source": [
    "#### Escreva aqui o programa principal \n",
    "from math import pi\n",
    "op = 0\n",
    "while True:\n",
    "    print(\"\\n1 - Calcular perímetro triângulo\")\n",
    "    print(\"2 - Calcular perímetro círculo\")\n",
    "    print(\"3 - Calcular perímetro retângulo\")\n",
    "    print(\"4 - Sair\")\n",
    "    op = int(input())\n",
    "    if op == 1:\n",
    "        print(f\"Opção: {op}\")\n",
    "        print(\"Digite os três lados do triângulo: \")\n",
    "        l1 = int(input())\n",
    "        l2 = int(input())\n",
    "        l3 = int(input())\n",
    "        print(\"O perímetro é:\", calcula_perimetro_triangulo(l1, l2, l3))\n",
    "    elif op == 2:\n",
    "        print(f\"Opção: {op}\")\n",
    "        print(\"Digite o raio do círculo: \")\n",
    "        r = int(input())\n",
    "        print(\"O perímetro é:\", calcula_perimetro_circulo(r))\n",
    "    elif op == 3:\n",
    "        print(f\"Opção: {op}\")\n",
    "        print(\"Informe os dois lados do retângulo. Se for um quadrado, digite 0 para o segundo valor:\")\n",
    "        l1 = int(input())\n",
    "        l2 = int(input())\n",
    "        print(\"O perímetro é:\", calcula_perimetro_retangulo(l1, l2))\n",
    "    elif op == 4:\n",
    "        break"
   ]
  },
  {
   "cell_type": "markdown",
   "id": "3016bcc7",
   "metadata": {},
   "source": [
    "## Funções ```lambda```"
   ]
  },
  {
   "cell_type": "markdown",
   "id": "f9cdb8dd",
   "metadata": {},
   "source": [
    "### Q6.\n",
    "\n",
    "Crie uma função lambda para verificar se um número é par ou ímpar. Em seguida, solicite ao usuário um número indefinidos de valores (até que o usuário digite 0). Para cada valor de entrada, informe se é par ou ímpar.\n",
    "\n",
    "Exemplo de interação:\n",
    "```\n",
    "Digite os valores que deseja verificar a paridade (digite 0 para finalizar a entrada de dados):\n",
    "3\n",
    "ímpar\n",
    "8\n",
    "par\n",
    "12\n",
    "par\n",
    "5\n",
    "ímpar\n",
    "7ímpar\n",
    "```"
   ]
  },
  {
   "cell_type": "code",
   "execution_count": 5,
   "id": "e3c31a78",
   "metadata": {},
   "outputs": [
    {
     "name": "stdout",
     "output_type": "stream",
     "text": [
      "Digite os valores que deseja verificar a paridade (digite 0 para finalizar a entrada de dados):\n"
     ]
    },
    {
     "name": "stdin",
     "output_type": "stream",
     "text": [
      " 1\n"
     ]
    },
    {
     "name": "stdout",
     "output_type": "stream",
     "text": [
      "Ímpar\n"
     ]
    },
    {
     "name": "stdin",
     "output_type": "stream",
     "text": [
      " 2\n"
     ]
    },
    {
     "name": "stdout",
     "output_type": "stream",
     "text": [
      "Par\n"
     ]
    },
    {
     "name": "stdin",
     "output_type": "stream",
     "text": [
      " 3\n"
     ]
    },
    {
     "name": "stdout",
     "output_type": "stream",
     "text": [
      "Ímpar\n"
     ]
    },
    {
     "name": "stdin",
     "output_type": "stream",
     "text": [
      " 4\n"
     ]
    },
    {
     "name": "stdout",
     "output_type": "stream",
     "text": [
      "Par\n"
     ]
    },
    {
     "name": "stdin",
     "output_type": "stream",
     "text": [
      " 5\n"
     ]
    },
    {
     "name": "stdout",
     "output_type": "stream",
     "text": [
      "Ímpar\n"
     ]
    },
    {
     "name": "stdin",
     "output_type": "stream",
     "text": [
      " 6\n"
     ]
    },
    {
     "name": "stdout",
     "output_type": "stream",
     "text": [
      "Par\n"
     ]
    },
    {
     "name": "stdin",
     "output_type": "stream",
     "text": [
      " 7\n"
     ]
    },
    {
     "name": "stdout",
     "output_type": "stream",
     "text": [
      "Ímpar\n"
     ]
    },
    {
     "name": "stdin",
     "output_type": "stream",
     "text": [
      " 8\n"
     ]
    },
    {
     "name": "stdout",
     "output_type": "stream",
     "text": [
      "Par\n"
     ]
    },
    {
     "name": "stdin",
     "output_type": "stream",
     "text": [
      " 9\n"
     ]
    },
    {
     "name": "stdout",
     "output_type": "stream",
     "text": [
      "Ímpar\n"
     ]
    },
    {
     "name": "stdin",
     "output_type": "stream",
     "text": [
      " 0\n"
     ]
    }
   ],
   "source": [
    "print(\"Digite os valores que deseja verificar a paridade (digite 0 para finalizar a entrada de dados):\")\n",
    "while True:\n",
    "    n = int(input())\n",
    "    resto = (lambda n: n % 2)(n)\n",
    "    if n == 0: break\n",
    "    if resto == 0: print(\"Par\")\n",
    "    else: print(\"Ímpar\")"
   ]
  },
  {
   "cell_type": "markdown",
   "id": "00dd62e3-3fad-4967-8dcb-146f584d1015",
   "metadata": {},
   "source": [
    "### Q7.\n",
    "\n",
    "Escreva um programa que pergunte ao usuário qual operação ele deseja: maior ou menor.\n",
    "Em seguida leia uma quantidade indefinida de valores do usuário, até que o usuário digite o valor zero.\n",
    "Apresente ao final o maior ou menor dos valores digitados de acordo com a escolha do usuário.\n",
    "\n",
    "**Sua solução deve incluir pelo menos uma função ```lambda```** \n",
    "\n",
    "Exemplo de interação:\n",
    "```\n",
    "Opções: (1) maior ou (2) menor?\n",
    "Opção: 1\n",
    "\n",
    "Digite os valores de entrada. Digite 0 para finalizar a entrada de valores.\n",
    "4\n",
    "12\n",
    "15\n",
    "1\n",
    "0\n",
    "\n",
    "O maior valor é: 15\n",
    "```"
   ]
  },
  {
   "cell_type": "code",
   "execution_count": 12,
   "id": "ee3f68ca",
   "metadata": {},
   "outputs": [
    {
     "name": "stdout",
     "output_type": "stream",
     "text": [
      "Opções: (1) maior ou (2) menor?\n"
     ]
    },
    {
     "name": "stdin",
     "output_type": "stream",
     "text": [
      "Opção:  2\n"
     ]
    },
    {
     "name": "stdout",
     "output_type": "stream",
     "text": [
      "Digite os valores de entrada. Digite 0 para finalizar a entrada de valores.\n"
     ]
    },
    {
     "name": "stdin",
     "output_type": "stream",
     "text": [
      " 1\n",
      " 2\n",
      " 3\n",
      " 4\n",
      " 5\n",
      " 6\n",
      " 7\n",
      " 8\n",
      " 9\n",
      " 0\n"
     ]
    },
    {
     "name": "stdout",
     "output_type": "stream",
     "text": [
      "O menor valor é: 0\n"
     ]
    }
   ],
   "source": [
    "## Escreva aqui o programa principal \n",
    "maior = 0\n",
    "menor = 0\n",
    "print(\"Opções: (1) maior ou (2) menor?\")\n",
    "op = int(input(\"Opção: \"))\n",
    "print(\"Digite os valores de entrada. Digite 0 para finalizar a entrada de valores.\")\n",
    "if op == 1:\n",
    "    while True:\n",
    "        num = int(input())\n",
    "        if num == 0: break\n",
    "        if (lambda n: n > maior)(num):\n",
    "            maior = num\n",
    "    print(f\"O maior valor é: {maior}\")\n",
    "if op == 2:\n",
    "    while True:\n",
    "        num = int(input())\n",
    "        if num == 0: break\n",
    "        if  (lambda n: n < menor)(num):\n",
    "            menor = num\n",
    "    print(f\"O menor valor é: {menor}\")"
   ]
  },
  {
   "cell_type": "code",
   "execution_count": null,
   "id": "db6b40a7-d7e2-422f-a5f5-978506a46ce9",
   "metadata": {},
   "outputs": [],
   "source": []
  }
 ],
 "metadata": {
  "kernelspec": {
   "display_name": "Python 3 (ipykernel)",
   "language": "python",
   "name": "python3"
  },
  "language_info": {
   "codemirror_mode": {
    "name": "ipython",
    "version": 3
   },
   "file_extension": ".py",
   "mimetype": "text/x-python",
   "name": "python",
   "nbconvert_exporter": "python",
   "pygments_lexer": "ipython3",
   "version": "3.12.4"
  }
 },
 "nbformat": 4,
 "nbformat_minor": 5
}
