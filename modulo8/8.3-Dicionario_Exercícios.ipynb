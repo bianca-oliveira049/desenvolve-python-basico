{
 "cells": [
  {
   "cell_type": "markdown",
   "id": "0d5035b5",
   "metadata": {},
   "source": [
    "# Dicionários\n",
    "\n",
    "## Aula 8.3"
   ]
  },
  {
   "cell_type": "markdown",
   "id": "0bdece85",
   "metadata": {},
   "source": [
    "### Q1. \n",
    "\n",
    "Escreva uma função em Python chamada ```contagem_caracteres``` que recebe uma string como parâmetro e retorna um dicionário onde as chaves são os caracteres presentes na string e os valores são a contagem de cada caractere.\n"
   ]
  },
  {
   "cell_type": "code",
   "execution_count": 1,
   "id": "09a9845d",
   "metadata": {},
   "outputs": [],
   "source": [
    "# Implemente aqui a função contagem_caracteres\n",
    "def contagem_caracteres(frase):\n",
    "    caracteres = {}\n",
    "    for caractere in frase:\n",
    "        caracteres[caractere] = frase.count(caractere)\n",
    "    return caracteres"
   ]
  },
  {
   "cell_type": "code",
   "execution_count": 2,
   "id": "0a258eba",
   "metadata": {},
   "outputs": [
    {
     "name": "stdout",
     "output_type": "stream",
     "text": [
      "{'p': 2, 'y': 1, 't': 1, 'h': 1, 'o': 2, 'n': 2, ' ': 1, 'r': 2, 'g': 2, 'a': 1, 'm': 2, 'i': 1}\n"
     ]
    }
   ],
   "source": [
    "# Exemplo de uso:\n",
    "frase = \"python programming\"\n",
    "resultado = contagem_caracteres(frase)\n",
    "print(resultado)"
   ]
  },
  {
   "cell_type": "markdown",
   "id": "649a5082",
   "metadata": {},
   "source": [
    "### Q2. \n",
    "\n",
    "Baixe o arquivo contendo o roteiro do filme brasileiro \"Estômago\" e salve em seu computador com o nome \"estomago.txt\".\n",
    "\n",
    "https://aplauso.imprensaoficial.com.br/edicoes/12.0.813.502/12.0.813.502.txt\n",
    "\n",
    "- Escreva um script python que abre o arquivo de texto e cria um dicionário contando a quantidade de vezes que cada palavra aparece no texto.\n",
    "- Em seguida ordene o dicionário de forma decrescente pelos valores. Dessa maneira ele irá apresentar as palavras mais frequentes no início.\n",
    "- Apresente na tela o dicionário ordenado\n"
   ]
  },
  {
   "cell_type": "code",
   "execution_count": null,
   "id": "47cb0573",
   "metadata": {},
   "outputs": [],
   "source": [
    "# Implemente aqui sua solução\n",
    "with open (\"C:\\\\Users\\\\PDITA049\\\\OneDrive\\\\Desktop\\\\estomago.txt\", 'r') as roteiro:\n",
    "    linhas = [linha.split() for linha in roteiro.readlines()]\n",
    "    dicionario = {}\n",
    "    for linha in linhas:\n",
    "        for palavra in linha:\n",
    "            palavra = palavra.lower()\n",
    "            dicionario[palavra] = dicionario.get(palavra, 0) + 1\n",
    "    dicionario = sorted(dicionario.items(), key = lambda item: item[1], reverse = True)\n",
    "    print(dicionario)"
   ]
  },
  {
   "cell_type": "markdown",
   "id": "bb62d219",
   "metadata": {},
   "source": [
    "### Q3. \n",
    "\n",
    "Crie uma função chamada ```mesclar_dicionarios``` que recebe dois dicionários como parâmetros e retorna um novo dicionário contendo a fusão dos dois. Se houver chaves comuns, o maior valor deve prevalecer."
   ]
  },
  {
   "cell_type": "code",
   "execution_count": 31,
   "id": "f4363612",
   "metadata": {},
   "outputs": [],
   "source": [
    "# Implemente aqui a função mesclar_dicionarios\n",
    "def mesclar_dicionarios(dicionario1, dicionario2):\n",
    "    mesclado = {}\n",
    "   for chave in dicionario1:\n",
    "       if chave in dicionario2:\n",
    "            if dicionario1[chave] >= dicionario2[chave]: mesclado[chave] = dicionario1[chave]\n",
    "            else: mesclado[chave] =  dicionario2[chave]\n",
    "    else: mesclado[chave] = dicionario1[chave]\n",
    "    for chave in dicionario2: \n",
    "        if chave not in dicionario1: mesclado[chave] =  dicionario2[chave]\n",
    "        \n",
    "    return mesclado"
   ]
  },
  {
   "cell_type": "code",
   "execution_count": 32,
   "id": "add41556",
   "metadata": {},
   "outputs": [
    {
     "name": "stdout",
     "output_type": "stream",
     "text": [
      "{'a': 1, 'b': 4, 'c': 3, 'd': 5}\n"
     ]
    }
   ],
   "source": [
    "# Exemplo de uso:\n",
    "dicionario1 = {'a': 1, 'b': 2, 'c': 3}\n",
    "dicionario2 = {'b': 4, 'd': 5}\n",
    "resultado = mesclar_dicionarios(dicionario1, dicionario2)\n",
    "print(resultado)\n",
    "# Saída esperada: {'a': 1, 'b': 4, 'c': 3, 'd': 5}"
   ]
  },
  {
   "cell_type": "markdown",
   "id": "8710b1a7",
   "metadata": {},
   "source": [
    "### Q4.\n",
    "\n",
    "Desenvolva uma função em Python chamada ```filtrar_dicionario``` que recebe um dicionário e uma lista de chaves como parâmetros e retorna um novo dicionário contendo apenas as chaves que estão presentes na lista."
   ]
  },
  {
   "cell_type": "code",
   "execution_count": 14,
   "id": "0b7ee921",
   "metadata": {},
   "outputs": [],
   "source": [
    "# Implemente aqui a função filtrar_dicionario\n",
    "def filtrar_dicionario(dicionario, chaves):\n",
    "    dicionarioFiltrado = {}\n",
    "    for chave in dicionario:\n",
    "        if chave in chaves: \n",
    "            dicionarioFiltrado[chave] = dicionario[chave]\n",
    "    return dict(dicionarioFiltrado)"
   ]
  },
  {
   "cell_type": "code",
   "execution_count": 15,
   "id": "ebc131f6",
   "metadata": {},
   "outputs": [
    {
     "name": "stdout",
     "output_type": "stream",
     "text": [
      "{'a': 1, 'c': 3, 'e': 5}\n"
     ]
    }
   ],
   "source": [
    "# Exemplo de uso:\n",
    "dados = {'a': 1, 'b': 2, 'c': 3, 'd': 4, 'e': 5}\n",
    "chaves_filtradas = ['a', 'c', 'e']\n",
    "resultado = filtrar_dicionario(dados, chaves_filtradas)\n",
    "print(resultado)\n",
    "# Saída esperada: {'a': 1, 'c': 3, 'e': 5}"
   ]
  },
  {
   "cell_type": "markdown",
   "id": "3203c51e",
   "metadata": {},
   "source": [
    "### Q5.\n",
    "\n",
    "Você está responsável por analisar os resultados de uma votação. Cada voto é representado por um dicionário com o nome do candidato e a quantidade de votos que recebeu em uma determinada sessão eleitoral. Escreva uma função chamada ```resultado_votacao``` que recebe uma lista de dicionários de votos e retorna um dicionário onde as chaves são os nomes dos candidatos, e os valores são tuplas ```(total, percentual)``` com o total de votos recebidos por cada candidato e o percentual em relação à soma total de votos em todos os candidatos. "
   ]
  },
  {
   "cell_type": "code",
   "execution_count": 35,
   "id": "2c856eee",
   "metadata": {},
   "outputs": [],
   "source": [
    "# Implemente aqui a função resultado_votacao\n",
    "def resultado_votacao (votos):\n",
    "    totalVotos = 0\n",
    "    dicionarioResultado = {}\n",
    "    for sessao in votos:\n",
    "        totalVotos += sum(sessao.values())\n",
    "    for candidato in votos[0]:\n",
    "        resultadoCandidato = [sessao[candidato] for sessao in votos] \n",
    "        resultadoCandidato = sum(resultadoCandidato)\n",
    "        dicionarioResultado[candidato] = (resultadoCandidato, round(resultadoCandidato / totalVotos * 100, 2))\n",
    "    return dicionarioResultado   \n",
    "            "
   ]
  },
  {
   "cell_type": "code",
   "execution_count": 36,
   "id": "ff2044de",
   "metadata": {},
   "outputs": [
    {
     "name": "stdout",
     "output_type": "stream",
     "text": [
      "{'candidato_A': (360, 40.31), 'candidato_B': (258, 28.89), 'candidato_C': (275, 30.8)}\n"
     ]
    }
   ],
   "source": [
    "# Exemplo de uso:\n",
    "votos = [\n",
    "    {'candidato_A': 120, 'candidato_B': 85, 'candidato_C': 90},\n",
    "    {'candidato_A': 110, 'candidato_B': 95, 'candidato_C': 80},\n",
    "    {'candidato_A': 130, 'candidato_B': 78, 'candidato_C': 105},\n",
    "]\n",
    "resultado = resultado_votacao(votos)\n",
    "print(resultado)  # Saída esperada: {'candidato_A': (360, 40.31), 'candidato_B': (258, 28.89), \n",
    "                                ###  'candidato_C': (275, 30.79)}"
   ]
  },
  {
   "cell_type": "code",
   "execution_count": null,
   "id": "c9a8aa65-33ae-4bd0-be6b-ef018ef67e04",
   "metadata": {},
   "outputs": [],
   "source": []
  }
 ],
 "metadata": {
  "kernelspec": {
   "display_name": "Python 3 (ipykernel)",
   "language": "python",
   "name": "python3"
  },
  "language_info": {
   "codemirror_mode": {
    "name": "ipython",
    "version": 3
   },
   "file_extension": ".py",
   "mimetype": "text/x-python",
   "name": "python",
   "nbconvert_exporter": "python",
   "pygments_lexer": "ipython3",
   "version": "3.12.2"
  }
 },
 "nbformat": 4,
 "nbformat_minor": 5
}
